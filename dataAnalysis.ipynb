{
 "cells": [
  {
   "cell_type": "markdown",
   "metadata": {},
   "source": [
    "### Block Release Exercise: Data Analysis Group\n",
    "\n",
    "This notebook is for the data analysis group. Your aim is to write code that will analyse the data produced by the other group. You will not work with the group until the end - the point of this task is that there is a clear definition (given below) of the \"interface format\" between your code and the data being produced by the other group's code. At the end of the day, you should be able to retrieve their file from GitHub and check whether your analysis works on it.\n",
    "\n",
    "The task is concerned with processing a file that contains a list of customers for an online coffe \n",
    "\n",
    "There are various tasks that you have to do. These are marked with \"Coding Task\" in the sheet."
   ]
  },
  {
   "cell_type": "markdown",
   "metadata": {},
   "source": [
    "##### Background Information: Interface Format\n",
    "\n",
    "The software interface between your work and the work by the other group consists of an csv formatted file, i.e. a file where on each row, entries are separated by commas, with a newline separating rows.The columns are: First Name, Last Name, Email, Address, Total Orders (in that order). Total orders is the number of coffee pods that the customer has ordered so far. The file will be called *cleanedCustomerData.csv*"
   ]
  },
  {
   "cell_type": "markdown",
   "metadata": {},
   "source": [
    "Coding Task: In the next block, import the Pandas library and call it \"pd\"."
   ]
  },
  {
   "cell_type": "code",
   "execution_count": 1,
   "metadata": {},
   "outputs": [],
   "source": [
    "#ANSWER\n",
    "\n",
    "import pandas as pd\n"
   ]
  },
  {
   "cell_type": "markdown",
   "metadata": {},
   "source": [
    "Preliminary Task: In order to test your code, you are going to need some example data. So, go into Excel and create a spreadsheet with the five columns mentioned in the *Interface Format* above. Create a couple of rows of data by making up names, etc. Make sure that when you save it, you save it as a *csv* file (not an Excel file) and that you call it *cleanedCustomerData.csv*. For now, it will only need to have a couple of example rows, but later on you might need to add more lines to test specific parts of your code. If you do this, remember to re-run your sheet from the beginning."
   ]
  },
  {
   "cell_type": "markdown",
   "metadata": {},
   "source": [
    "Coding Task: In the next block, import the sample customer data file that you have created into a Pandas DataFrame, give it the variable name *customers* and print it out to check that you have imported it correctly. You will need to find out how to read a csv file in Pandas."
   ]
  },
  {
   "cell_type": "code",
   "execution_count": 4,
   "metadata": {},
   "outputs": [],
   "source": [
    "#ANSWER\n",
    "customers = pd.read_csv(\"cleanedCustomerData.csv\")\n"
   ]
  },
  {
   "cell_type": "markdown",
   "metadata": {},
   "source": [
    "Coding task: In the next block, calculate and print the average (mean) number of orders for a customer."
   ]
  },
  {
   "cell_type": "code",
   "execution_count": 5,
   "metadata": {},
   "outputs": [
    {
     "data": {
      "text/plain": [
       "Total Orders    104.666667\n",
       "dtype: float64"
      ]
     },
     "execution_count": 5,
     "metadata": {},
     "output_type": "execute_result"
    }
   ],
   "source": [
    "#ANSWER\n",
    "customers.mean()\n"
   ]
  },
  {
   "cell_type": "markdown",
   "metadata": {},
   "source": [
    "Preliminary Example: In a lot of the code you are going to write below, you will need to loop through one or more columns of the DataFrame to look for particular patterns and make changes. The basic idea you will use a lot is a for loop with an *enumerate* function, which loops through each row of the dataframe and gives names to the current row and the item of interest, and the *at* function that takes a column name and row number and allows you to view or change that data point."
   ]
  },
  {
   "cell_type": "code",
   "execution_count": 6,
   "metadata": {},
   "outputs": [
    {
     "name": "stdout",
     "output_type": "stream",
     "text": [
      "psysr2@nottingham.ac.uk \n",
      "120\n",
      "psymp9@nottingham.ac.uk\n",
      "93\n",
      "psyjl18@nottingham.ac.uk\n",
      "101\n"
     ]
    }
   ],
   "source": [
    "#example\n",
    "for i,c in enumerate(customers[\"Email\"]):\n",
    "    print(c)\n",
    "    print(customers.at[i,\"Total Orders\"])"
   ]
  },
  {
   "cell_type": "markdown",
   "metadata": {},
   "source": [
    "Preliminary Example: In the next step, we are going to split the address column into its parts. You do this using the \"split\" function in python, https://www.w3schools.com/python/ref_string_split.asp Here is an example:"
   ]
  },
  {
   "cell_type": "code",
   "execution_count": 7,
   "metadata": {},
   "outputs": [
    {
     "name": "stdout",
     "output_type": "stream",
     "text": [
      "['Colin', 'Johnson']\n"
     ]
    }
   ],
   "source": [
    "#example\n",
    "name = \"Colin Johnson\"\n",
    "splitName = name.split()\n",
    "print(splitName)"
   ]
  },
  {
   "cell_type": "markdown",
   "metadata": {},
   "source": [
    "Coding Task: Your company has decided to carry out a local promotion for customers living in the Rummidge area, i.e. anyone with a postcode beginning \"RU..\". By using the ideas from the two preliminary examples, and by looking up how substrings work (e.g. at https://www.freecodecamp.org/news/how-to-substring-a-string-in-python/), write code in the next block to select these customers and make a list of their email addresses. You will need to add a couple more examples to your test data so that you have examples both with and without these postcodes. If you are not familiar with UK postcodes, you will need to find out how they are formatted and where they are in the address."
   ]
  },
  {
   "cell_type": "code",
   "execution_count": 8,
   "metadata": {},
   "outputs": [
    {
     "name": "stdout",
     "output_type": "stream",
     "text": [
      "['7', 'Ferry', 'Court,', 'FK9', '5GJ']\n",
      "['7', 'Fishponds', ',', 'BS1', '0PN']\n",
      "['8', 'Derby,', 'RU1', '9ST']\n",
      "['FK9', 'BS1', 'RU1']\n",
      "psyjl18@nottingham.ac.uk\n"
     ]
    }
   ],
   "source": [
    "#ANSWER\n",
    "\n",
    "Address=customers['Address']\n",
    "postcodes=[]\n",
    "for x in Address:\n",
    "    splitAddress=x.split()\n",
    "    print(splitAddress)\n",
    "    postcodes.append(splitAddress[-2])\n",
    "print(postcodes)\n",
    "\n",
    "for i,x in enumerate(postcodes):\n",
    "    if x.startswith('RU'):\n",
    "        print(customers.at[i,'Email'])\n",
    "# i is index \n",
    "\n",
    "\n",
    "\n",
    "\n"
   ]
  },
  {
   "cell_type": "markdown",
   "metadata": {},
   "source": [
    "Optional advanced extension task: You can automate email sending from Python - see https://realpython.com/python-send-email/. So, write code to actually send the emails (it is safe to do so, because they all use the \"example.com\" domain which is reserved for examples, so you won't accidentally send an email to a real person). You can check it works by putting your email adress in the \"Email\" column of your test file. This is a rather advanced task, so I would suggest that you leave this and return to it at the end once you have done everything else."
   ]
  },
  {
   "cell_type": "code",
   "execution_count": null,
   "metadata": {},
   "outputs": [],
   "source": [
    "#ANSWER to optional task"
   ]
  },
  {
   "cell_type": "markdown",
   "metadata": {},
   "source": [
    "Coding Task: Your team leader believes that customers in the northern sales region buy more coffee than those in the midlands sales region. Data matching the first two letters of postcodes to sales regions is in the *salesRegions.xlsx* file, which is on your team site on GitHub (you might find it useful to convert this to a Python dictionary, e.g. https://stackoverflow.com/questions/18012505/python-pandas-dataframe-columns-convert-to-dict-key-and-value). In the next block, write code to calculate the average sales for each region. Extension: If you are confident with statisical analysis, you could test whether the difference is statistically significant"
   ]
  },
  {
   "cell_type": "code",
   "execution_count": null,
   "metadata": {},
   "outputs": [],
   "source": [
    "#ANSWER"
   ]
  },
  {
   "cell_type": "markdown",
   "metadata": {},
   "source": [
    "Thinking Task: Would you conclude that there is enough evidence to support your team leader's conclusion? If not, what additional information would you need?"
   ]
  },
  {
   "cell_type": "markdown",
   "metadata": {},
   "source": [
    "#ANSWER"
   ]
  }
 ],
 "metadata": {
  "kernelspec": {
   "display_name": "Python 3",
   "language": "python",
   "name": "python3"
  },
  "language_info": {
   "codemirror_mode": {
    "name": "ipython",
    "version": 3
   },
   "file_extension": ".py",
   "mimetype": "text/x-python",
   "name": "python",
   "nbconvert_exporter": "python",
   "pygments_lexer": "ipython3",
   "version": "3.8.8"
  }
 },
 "nbformat": 4,
 "nbformat_minor": 4
}
